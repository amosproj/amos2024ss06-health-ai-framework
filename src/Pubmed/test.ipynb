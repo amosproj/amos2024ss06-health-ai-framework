{
 "cells": [
  {
   "cell_type": "code",
   "execution_count": null,
   "metadata": {},
   "outputs": [],
   "source": [
    "from Bio import Entrez\n",
    "import pandas as pd\n",
    "import numpy as np\n",
    "\n",
    "def search(query):\n",
    "    Entrez.email = 'email@example.com'\n",
    "    handle = Entrez.esearch(db='pubmed',\n",
    "        sort='relevance',\n",
    "        retmax='250000',\n",
    "        retmode='xml',\n",
    "        term=query)\n",
    "    results = Entrez.read(handle)\n",
    "    return results\n",
    "\n",
    "studies = search('nutrition')\n",
    "studiesIdList = studies['IdList']"
   ]
  },
  {
   "cell_type": "code",
   "execution_count": null,
   "metadata": {},
   "outputs": [],
   "source": [
    "from paperscraper import PaperScraper\n",
    "scraper = PaperScraper()\n",
    "print(scraper.extract_from_url(\"https://www.ncbi.nlm.nih.gov/pmc/articles/PMC3418173/\"))"
   ]
  }
 ],
 "metadata": {
  "kernelspec": {
   "display_name": "Python 3",
   "language": "python",
   "name": "python3"
  },
  "language_info": {
   "codemirror_mode": {
    "name": "ipython",
    "version": 3
   },
   "file_extension": ".py",
   "mimetype": "text/x-python",
   "name": "python",
   "nbconvert_exporter": "python",
   "pygments_lexer": "ipython3",
   "version": "3.10.5"
  }
 },
 "nbformat": 4,
 "nbformat_minor": 2
}
