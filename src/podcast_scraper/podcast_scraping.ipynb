{
 "cells": [
  {
   "cell_type": "code",
   "id": "97b17c2e",
   "metadata": {
    "ExecuteTime": {
     "end_time": "2024-05-04T15:02:48.631452Z",
     "start_time": "2024-05-04T15:02:48.614322Z"
    }
   },
   "source": [
    "import os\n",
    "from os import path\n",
    "import re\n",
    "import urllib\n",
    "import urllib.request\n",
    "from urllib.request import Request, urlopen, urlretrieve\n",
    "from bs4 import BeautifulSoup as soup\n",
    "import requests\n",
    "from bs4 import BeautifulSoup\n",
    "from google.cloud import speech_v1p1beta1 as speech\n",
    "import speech_recognition as sr\n",
    "from pydub import AudioSegment\n",
    "import subprocess\n",
    "import json"
   ],
   "outputs": [],
   "execution_count": 44
  },
  {
   "cell_type": "code",
   "id": "a08543e2",
   "metadata": {
    "ExecuteTime": {
     "end_time": "2024-05-04T15:02:48.800705Z",
     "start_time": "2024-05-04T15:02:48.792376Z"
    }
   },
   "source": [
    "def soup_maker(link: str):\n",
    "    \"\"\" takes in a html link as a string and returns a page soup \"\"\"\n",
    "    req_single = Request(link , headers={'User-Agent': 'Mozilla/5.0'})\n",
    "    single_page = urlopen(req_single).read()\n",
    "    return BeautifulSoup(single_page, \"html.parser\")\n",
    "\n",
    "def mp3_scrape(page_soup):\n",
    "    \"\"\" takes in a page soup and returns a list of unique mp3 links \"\"\"\n",
    "    type(page_soup)\n",
    "    text = page_soup.prettify()\n",
    "    text = text.replace(\"\\\\/\", \"/\").replace(\" \",\"_\")\n",
    "    regex = re.findall(r'http.*?mp3', text)\n",
    "\n",
    "    sum = ''\n",
    "    for element in regex:\n",
    "        sum += element\n",
    "    res = sum.split(',')\n",
    "\n",
    "    links = [re.findall(r'http.*?mp3', i) for i in res]\n",
    "    unpacked = [i[0] for i in links if i != []]\n",
    "    unique_list = list(set(unpacked))\n",
    "\n",
    "    return unique_list\n",
    "\n",
    "def download_mp3(folder: str, unique_list: list):\n",
    "    if not os.path.exists(folder):\n",
    "        os.makedirs(folder)\n",
    "        \n",
    "    filenames = []\n",
    "    for url in unique_list:\n",
    "        filenames.append(url.split('/')[-1])\n",
    "\n",
    "    for ind, ele in enumerate(unique_list):\n",
    "        url = f'{folder}{filenames[ind]}'\n",
    "        urlretrieve(ele, url)\n",
    "\n",
    "    return filenames\n",
    "\n",
    "\n",
    "# Convert MP3 to WAV\n",
    "def convert_to_wav_sox(mp3_file):\n",
    "    # assign files \n",
    "    input_file = mp3_file\n",
    "    output_file = input_file[:-4]+'.wav'\n",
    "\n",
    "    # convert mp3 file to wav file \n",
    "    sound = AudioSegment.from_mp3(input_file)\n",
    "    sound.export(output_file, format=\"wav\")\n",
    "    return output_file\n",
    "\n",
    "# Text transcribe\n",
    "def transcribe_audio(audio_file):\n",
    "    recognizer = sr.Recognizer()\n",
    "\n",
    "    # Load audio file\n",
    "    with sr.AudioFile(audio_file) as source:\n",
    "        audio_data = recognizer.record(source)\n",
    "\n",
    "    # Perform the transcription using CMU Sphinx\n",
    "    try:\n",
    "        transcription = recognizer.recognize_sphinx(audio_data)\n",
    "        return transcription\n",
    "    except sr.UnknownValueError:\n",
    "        return \"Sphinx could not understand the audio\"\n",
    "    except sr.RequestError as e:\n",
    "        return f\"Error occurred in Sphinx; {e}\"\n",
    "\n",
    "def convert_and_transcribe(folder, filename):\n",
    "    audio_file_path = folder+filename\n",
    "    wav_file_path = convert_to_wav_sox(audio_file_path)\n",
    "    transcription = transcribe_audio(wav_file_path)\n",
    "    \n",
    "    print(\"Transcription:\\n\")\n",
    "    print(transcription)\n",
    "    \n",
    "    return 0\n",
    "\n",
    "    "
   ],
   "outputs": [],
   "execution_count": 45
  },
  {
   "metadata": {
    "ExecuteTime": {
     "end_time": "2024-05-04T15:02:48.813047Z",
     "start_time": "2024-05-04T15:02:48.808785Z"
    }
   },
   "cell_type": "code",
   "source": [
    "# Extract data from json\n",
    "filename = 'config.json'\n",
    "relative_path = os.path.join('..', filename)\n",
    "absolute_path = os.path.abspath(relative_path)\n",
    "\n",
    "# Check if the file exists\n",
    "if os.path.exists(absolute_path):\n",
    "    # Load JSON data from the file\n",
    "    with open(absolute_path, 'r') as file:\n",
    "        json_data = json.load(file)\n",
    "    # Access the loaded JSON data\n",
    "    print(\"JSON data loaded from the file in the parent directory:\")\n",
    "else:\n",
    "    print(\"File does not exist in the parent directory.\")\n",
    "\n",
    "# Take first URL of firs\n",
    "archive_url = json_data['podcastTargets'][0]['urls'][0]\n",
    "print(archive_url)"
   ],
   "id": "dfa8e8a3b652706c",
   "outputs": [
    {
     "name": "stdout",
     "output_type": "stream",
     "text": [
      "JSON data loaded from the file in the parent directory:\n",
      "https://peterattiamd.com/podcast/archive/\n"
     ]
    }
   ],
   "execution_count": 46
  },
  {
   "metadata": {
    "ExecuteTime": {
     "end_time": "2024-05-04T15:02:49.539958Z",
     "start_time": "2024-05-04T15:02:48.830157Z"
    }
   },
   "cell_type": "code",
   "source": [
    "# Scape archive site with all the links to podcasts\n",
    "page_soup = soup_maker(archive_url)\n",
    "\n",
    "article = page_soup.find('article')\n",
    "hrefs = [a['href'] for a in article.findAll('a', href=True)]\n",
    "print(hrefs[:10])"
   ],
   "id": "f77fbca21c6a1c5d",
   "outputs": [
    {
     "name": "stdout",
     "output_type": "stream",
     "text": [
      "['https://peterattiamd.com/daxshepard/', 'https://peterattiamd.com/lucvanloon/', 'https://peterattiamd.com/paulconti4/', 'https://peterattiamd.com/ama58/', 'https://peterattiamd.com/courtneyconley/', 'https://peterattiamd.com/markrosekind/', 'https://peterattiamd.com/olavaleksanderbu/', 'https://peterattiamd.com/ama57/', 'https://peterattiamd.com/jasonmccarthy/', 'https://peterattiamd.com/derekmpmd2/']\n"
     ]
    }
   ],
   "execution_count": 47
  },
  {
   "metadata": {
    "jupyter": {
     "is_executing": true
    },
    "ExecuteTime": {
     "start_time": "2024-05-04T15:02:49.541962Z"
    }
   },
   "cell_type": "code",
   "source": [
    "# downloading all mp3 links into audio folder\n",
    "folder = \"audios/\"\n",
    "filenames = []\n",
    "limiter = 0\n",
    "for link in hrefs:\n",
    "    if limiter > 2:\n",
    "        break\n",
    "    soup = soup_maker(link)\n",
    "    mp3_links = mp3_scrape(soup)\n",
    "    filenames = filenames + download_mp3(folder, mp3_links)\n",
    "    limiter = limiter + 1\n",
    "\n",
    "# go through mp3's and convert and transcribe them  \n",
    "i = 0\n",
    "for file in filenames:\n",
    "    if i > 2:\n",
    "        break\n",
    "    convert_and_transcribe(folder, file)\n",
    "    i += 1\n"
   ],
   "id": "e72807a8b0afe450",
   "outputs": [],
   "execution_count": null
  },
  {
   "metadata": {},
   "cell_type": "markdown",
   "source": "## Achtung ... Baustelle!",
   "id": "9dbe7636844cf33"
  },
  {
   "metadata": {
    "jupyter": {
     "is_executing": true
    }
   },
   "cell_type": "code",
   "source": [
    "r = sr.Recognizer()\n",
    "\n",
    "audio_file = sr.AudioFile('audios/'+'EP.254_-_AMA_47_SNEEK_PEEK.wav')\n",
    "\n",
    "with audio_file as source:\n",
    "    audio = r.record(source, duration=40)\n",
    "\n",
    "\"\"\"    \n",
    "with audio_file as source:\n",
    "    audio = r.record(source)\n",
    "\"\"\"\n",
    "text = r.recognize_google(audio)\n",
    "text"
   ],
   "id": "f23e93c7b19ed758",
   "outputs": [],
   "execution_count": null
  },
  {
   "cell_type": "code",
   "id": "0d0b9e46",
   "metadata": {
    "jupyter": {
     "is_executing": true
    }
   },
   "source": [
    "# Function to transcribe audio to text using Google Cloud Speech-to-Text\n",
    "def transcribe_audio(audio_url):\n",
    "    client = speech.SpeechClient()\n",
    "    audio = speech.RecognitionAudio(uri=audio_url)\n",
    "    config = speech.RecognitionConfig(\n",
    "        encoding=speech.RecognitionConfig.AudioEncoding.OGG_OPUS,\n",
    "        language_code=\"en-US\",\n",
    "    )\n",
    "    response = client.recognize(config=config, audio=audio)\n",
    "    transcripts = []\n",
    "    for result in response.results:\n",
    "        transcripts.append(result.alternatives[0].transcript)\n",
    "    return transcripts\n",
    "\n",
    "# URL of the webpage containing the audio\n",
    "url = \"https://content.libsyn.com/p/d/1/b/d1b65ad733f9441c/EP.254_-_AMA_47_SNEEK_PEEK.mp3?c_id=151844049&cs_id=151844049&response-content-type=audio%2Fmpeg&Expires=1714302958&Signature=ZoU1VHP2md8aJSWHfUdjpLK3~iZ1II0G7hhFxN0wPC50NGUw7jcNL3O4zwbJsgzeQdWcakT2rsAe-qO-VJqXD1jkDX9glPox~inBEJibxcwlH7jhb3fyPITfa8BnYBlmkl~6yiI6oT1VejMRWV1SGt9ed-YvAhMW3japlpRd2cBTGB3ioxDuDE7JWB5pJ6YvF7hmTd6oq2a94rycanbTI5kpBwcb3O6eFl5XI4iY0hj-c9bfjbFeangw5J7ZYaGh~B5BvdSRvN0EQVcLf5KTy4tF~LI8a0FMKcqf-I5BFkLGUcACwJnINNkgFBefmZ3LvHyig2V4lwH4FDHdY-IOdg__&Key-Pair-Id=K1YS7LZGUP96OI\" \n",
    "# \"https:\\/\\/traffic.libsyn.com\\/secure\\/peterattiadrive\\/EP.254_-_AMA_47_SNEEK_PEEK.mp3\"\n",
    "# \"https://content.libsyn.com/p/d/1/b/d1b65ad733f9441c/EP.254_-_AMA_47_SNEEK_PEEK.mp3?c_id=151844049&cs_id=151844049&response-content-type=audio%2Fmpeg&Expires=1714302958&Signature=ZoU1VHP2md8aJSWHfUdjpLK3~iZ1II0G7hhFxN0wPC50NGUw7jcNL3O4zwbJsgzeQdWcakT2rsAe-qO-VJqXD1jkDX9glPox~inBEJibxcwlH7jhb3fyPITfa8BnYBlmkl~6yiI6oT1VejMRWV1SGt9ed-YvAhMW3japlpRd2cBTGB3ioxDuDE7JWB5pJ6YvF7hmTd6oq2a94rycanbTI5kpBwcb3O6eFl5XI4iY0hj-c9bfjbFeangw5J7ZYaGh~B5BvdSRvN0EQVcLf5KTy4tF~LI8a0FMKcqf-I5BFkLGUcACwJnINNkgFBefmZ3LvHyig2V4lwH4FDHdY-IOdg__&Key-Pair-Id=K1YS7LZGUP96OI\" \n",
    "#\"https://peterattiamd.com/ama47/\"\n",
    "\n",
    "# Scrape the audio URL\n",
    "audio_url = scrape_audio_url(url)\n",
    "if audio_url:\n",
    "    print(\"Audio URL found:\", audio_url)\n",
    "    # Transcribe the audio to text\n",
    "    transcripts = transcribe_audio(audio_url)\n",
    "    print(\"Transcription:\")\n",
    "    for transcript in transcripts:\n",
    "        print(transcript)\n",
    "else:\n",
    "    print(\"No audio found on the webpage.\")"
   ],
   "outputs": [],
   "execution_count": null
  },
  {
   "metadata": {
    "jupyter": {
     "is_executing": true
    }
   },
   "cell_type": "code",
   "source": [
    "test_mp3 = filenames[0]\n",
    "\n",
    "client = speech.SpeechClient()\n",
    "\n",
    "# Configure audio settings\n",
    "config = {\n",
    "    \"language_code\": \"en-US\",\n",
    "}\n",
    "audio = {\"uri\": test_mp3}\n",
    "\n",
    "# Perform the transcription\n",
    "response = client.long_running_recognize(config=config, audio=audio)\n",
    "operation = response.operation\n",
    "operation_result = operation.result()\n",
    "\n",
    "# Parse the transcription results\n",
    "transcription = \"\"\n",
    "for result in operation_result.results:\n",
    "    for alternative in result.alternatives:\n",
    "        transcription += alternative.transcript + \"\\n\"\n",
    "\n",
    "# Provide the path to your audio file\n",
    "audio_file_path_1 = test_mp3\n",
    "\n",
    "# Call the transcribe_audio function\n",
    "transcription_1 = transcribe_audio(audio_file_path_1)\n",
    "print(\"Transcription:\")\n",
    "print(transcription_1)"
   ],
   "id": "fdeee58ff944e7f3",
   "outputs": [],
   "execution_count": null
  },
  {
   "metadata": {
    "jupyter": {
     "is_executing": true
    }
   },
   "cell_type": "code",
   "source": [
    "r = sr.Recognizer()\n",
    "\n",
    "audio_file = sr.AudioFile(folder+'EP.254_-_AMA_47_SNEEK_PEEK.wav')\n",
    "\n",
    "with audio_file as source:\n",
    "    audio = r.record(source, duration=40)\n",
    "\n",
    "\"\"\"    \n",
    "with audio_file as source:\n",
    "    audio = r.record(source)\n",
    "\"\"\"\n",
    "text = r.recognize_google(audio)\n",
    "print(text)"
   ],
   "id": "28dd24f7e00aad2a",
   "outputs": [],
   "execution_count": null
  }
 ],
 "metadata": {
  "kernelspec": {
   "display_name": "Python 3 (ipykernel)",
   "language": "python",
   "name": "python3"
  },
  "language_info": {
   "codemirror_mode": {
    "name": "ipython",
    "version": 3
   },
   "file_extension": ".py",
   "mimetype": "text/x-python",
   "name": "python",
   "nbconvert_exporter": "python",
   "pygments_lexer": "ipython3",
   "version": "3.7.4"
  }
 },
 "nbformat": 4,
 "nbformat_minor": 5
}
