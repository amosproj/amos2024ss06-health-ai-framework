{
 "cells": [
  {
   "cell_type": "code",
   "id": "97b17c2e",
   "metadata": {
    "ExecuteTime": {
     "end_time": "2024-05-05T15:53:23.295917Z",
     "start_time": "2024-05-05T15:53:23.292692Z"
    }
   },
   "source": [
    "import os\n",
    "from os import path\n",
    "import re\n",
    "import urllib\n",
    "import urllib.request\n",
    "from urllib.request import Request, urlopen, urlretrieve\n",
    "from bs4 import BeautifulSoup as soup\n",
    "import requests\n",
    "from bs4 import BeautifulSoup, SoupStrainer\n",
    "from google.cloud import speech_v1p1beta1 as speech\n",
    "import speech_recognition as sr\n",
    "from pydub import AudioSegment\n",
    "import subprocess\n",
    "import json\n",
    "import requests"
   ],
   "outputs": [],
   "execution_count": 13
  },
  {
   "cell_type": "code",
   "id": "a08543e2",
   "metadata": {
    "ExecuteTime": {
     "end_time": "2024-05-05T15:53:23.324468Z",
     "start_time": "2024-05-05T15:53:23.312697Z"
    }
   },
   "source": [
    "def soup_maker(link: str):\n",
    "    \"\"\" takes in a html link as a string and returns a page soup \"\"\"\n",
    "    req_single = Request(link , headers={'User-Agent': 'Mozilla/5.0'})\n",
    "    single_page = urlopen(req_single).read()\n",
    "    return BeautifulSoup(single_page, \"html.parser\")\n",
    "\n",
    "def mp3_scrape(page_soup):\n",
    "    \"\"\" takes in a page soup and returns one mp3 link of that episode \"\"\"\n",
    "    text = page_soup.prettify()\n",
    "    text = text.replace(\"\\\\/\", \"/\").replace(\" \",\"\")\n",
    "    \n",
    "    two_players = re.findall(r'SmartPodcastPlayer.*?=.*?}}',text)\n",
    "    curr_player = two_players[0]\n",
    "    json_text = '{'+curr_player.split('={')[1]\n",
    "    json_data = json.loads(json_text)\n",
    "    mp3_url = json_data['options']['url']\n",
    "    print(mp3_url)\n",
    "\n",
    "    # regex = re.findall(r'http.*?mp3', text)\n",
    "    # sum = ''\n",
    "    # for element in regex:\n",
    "    #     sum += element\n",
    "    # res = sum.split(',')\n",
    "    # \n",
    "    # links = [re.findall(r'http.*?mp3', i) for i in res]\n",
    "    # unpacked = [i[0] for i in links if i != []]\n",
    "    # unique_list = list(set(unpacked))\n",
    "\n",
    "    return mp3_url\n",
    "\n",
    "def download_mp3(folder: str, link: str):\n",
    "    if not os.path.exists(folder):\n",
    "        os.makedirs(folder)\n",
    "\n",
    "    filename = link.split('/')[-1]\n",
    "    url = f'{folder}{filename}'\n",
    "    urlretrieve(link, url)\n",
    "        \n",
    "    # filenames = []\n",
    "    # for url in unique_list:\n",
    "    #     filenames.append(url.split('/')[-1])\n",
    "    # \n",
    "    # for ind, ele in enumerate(unique_list):\n",
    "    #     url = f'{folder}{filenames[ind]}'\n",
    "    #     urlretrieve(ele, url)\n",
    "\n",
    "    return filename\n",
    "\n",
    "\n",
    "# Convert MP3 to WAV\n",
    "def convert_to_wav_sox(mp3_file):\n",
    "    # assign files \n",
    "    input_file = mp3_file\n",
    "    output_file = input_file[:-4]+'.wav'\n",
    "\n",
    "    # convert mp3 file to wav file \n",
    "    sound = AudioSegment.from_mp3(input_file)\n",
    "    sound.export(output_file, format=\"wav\")\n",
    "    return output_file\n",
    "\n",
    "# Text transcribe\n",
    "def transcribe_audio(audio_file, duration):\n",
    "    recognizer = sr.Recognizer()\n",
    "\n",
    "    # Load audio file\n",
    "    with sr.AudioFile(audio_file) as source:\n",
    "        audio_data = recognizer.record(source, duration)\n",
    "\n",
    "    # Perform the transcription using CMU Sphinx\n",
    "    try:\n",
    "        transcription = recognizer.recognize_sphinx(audio_data)\n",
    "        return transcription\n",
    "    except sr.UnknownValueError:\n",
    "        return \"Sphinx could not understand the audio\"\n",
    "    except sr.RequestError as e:\n",
    "        return f\"Error occurred in Sphinx; {e}\""
   ],
   "outputs": [],
   "execution_count": 14
  },
  {
   "metadata": {
    "ExecuteTime": {
     "end_time": "2024-05-05T15:53:23.332689Z",
     "start_time": "2024-05-05T15:53:23.326569Z"
    }
   },
   "cell_type": "code",
   "source": [
    "# Extract data from json\n",
    "filename = 'config.json'\n",
    "relative_path = os.path.join('..', filename)\n",
    "absolute_path = os.path.abspath(relative_path)\n",
    "\n",
    "# Check if the file exists\n",
    "if os.path.exists(absolute_path):\n",
    "    # Load JSON data from the file\n",
    "    with open(absolute_path, 'r') as file:\n",
    "        json_data = json.load(file)\n",
    "    # Access the loaded JSON data\n",
    "    print(\"JSON data loaded from the file in the parent directory:\")\n",
    "else:\n",
    "    print(\"File does not exist in the parent directory.\")\n",
    "\n",
    "# Take first URL of firs\n",
    "archive_url = json_data['podcastTargets'][0]['urls'][0]\n",
    "print(archive_url)"
   ],
   "id": "dfa8e8a3b652706c",
   "outputs": [
    {
     "name": "stdout",
     "output_type": "stream",
     "text": [
      "JSON data loaded from the file in the parent directory:\n",
      "https://peterattiamd.com/podcast/archive/\n"
     ]
    }
   ],
   "execution_count": 15
  },
  {
   "metadata": {
    "ExecuteTime": {
     "end_time": "2024-05-05T15:53:24.594774Z",
     "start_time": "2024-05-05T15:53:23.333996Z"
    }
   },
   "cell_type": "code",
   "source": [
    "# Scape archive site with all the links to podcasts\n",
    "page_soup = soup_maker(archive_url)\n",
    "\n",
    "article = page_soup.find('article')\n",
    "hrefs = [a['href'] for a in article.findAll('a', href=True)]\n",
    "print(hrefs[:5])"
   ],
   "id": "f77fbca21c6a1c5d",
   "outputs": [
    {
     "name": "stdout",
     "output_type": "stream",
     "text": [
      "['https://peterattiamd.com/daxshepard/', 'https://peterattiamd.com/lucvanloon/', 'https://peterattiamd.com/paulconti4/', 'https://peterattiamd.com/ama58/', 'https://peterattiamd.com/courtneyconley/']\n"
     ]
    }
   ],
   "execution_count": 16
  },
  {
   "metadata": {
    "ExecuteTime": {
     "end_time": "2024-05-05T15:54:18.609668Z",
     "start_time": "2024-05-05T15:53:24.596387Z"
    }
   },
   "cell_type": "code",
   "source": [
    "# downloading all mp3 links into audio folder\n",
    "folder = \"audios/\"\n",
    "filenames = []\n",
    "final_texts = []\n",
    "\n",
    "duration = 20\n",
    "hrefs = hrefs[:3]\n",
    "for link in hrefs:\n",
    "    soup = soup_maker(link)\n",
    "    mp3_link = mp3_scrape(soup)\n",
    "    filename = download_mp3(folder,mp3_link)\n",
    "    # filenames = filenames + download_mp3(folder, mp3_links)\n",
    "    \n",
    "    audio_file_path = folder+filename\n",
    "    wav_file_path = convert_to_wav_sox(audio_file_path)\n",
    "    transcription = transcribe_audio(wav_file_path, duration)\n",
    "\n",
    "    data = {\n",
    "        \"filename\": filename,\n",
    "        \"transcription\": transcription\n",
    "    }\n",
    "\n",
    "    # Append dictionary to list\n",
    "    final_texts.append(data)\n",
    "\n",
    "# Define the output JSON file path\n",
    "output_file = \"podcast_transcriptions.json\"\n",
    "\n",
    "# Save list of dictionaries as JSON to a file\n",
    "with open(output_file, \"w\") as json_file:\n",
    "    json.dump(final_texts, json_file, indent=4)\n",
    "\n",
    "# Print JSON string\n",
    "print(f\"Transcriptions saved to {output_file}\")\n",
    "\n",
    "\n",
    "    \n",
    "# # go through mp3's and convert and transcribe them  \n",
    "# for file in filenames:\n",
    "#     convert_and_transcribe(folder, file, duration)\n"
   ],
   "id": "e72807a8b0afe450",
   "outputs": [
    {
     "name": "stdout",
     "output_type": "stream",
     "text": [
      "https://traffic.libsyn.com/secure/peterattiadrive/EP.XX_-_Dax_Shepard_on_Senna_FINAL.mp3\n",
      "https://traffic.libsyn.com/secure/peterattiadrive/EP.299_-_Luc_van_Loon_PUBLIC.mp3\n",
      "https://traffic.libsyn.com/secure/peterattiadrive/EP.298_-_Paul_Conti_4_FINAL.mp3\n",
      "Transcriptions saved to podcast_transcriptions.json\n"
     ]
    }
   ],
   "execution_count": 17
  },
  {
   "metadata": {},
   "cell_type": "markdown",
   "source": "## Achtung ... Baustelle!",
   "id": "9dbe7636844cf33"
  },
  {
   "metadata": {
    "ExecuteTime": {
     "end_time": "2024-05-05T15:54:18.667535Z",
     "start_time": "2024-05-05T15:54:18.611393Z"
    }
   },
   "cell_type": "code",
   "source": [
    "r = sr.Recognizer()\n",
    "\n",
    "audio_file = sr.AudioFile('audios/'+'EP.254_-_AMA_47_SNEEK_PEEK.wav')\n",
    "\n",
    "with audio_file as source:\n",
    "    audio = r.record(source, duration=40)\n",
    "\n",
    "\"\"\"    \n",
    "with audio_file as source:\n",
    "    audio = r.record(source)\n",
    "\"\"\"\n",
    "# text = r.recognize_google(audio)"
   ],
   "id": "f23e93c7b19ed758",
   "outputs": [
    {
     "ename": "FileNotFoundError",
     "evalue": "[Errno 2] No such file or directory: 'audios/EP.254_-_AMA_47_SNEEK_PEEK.wav'",
     "output_type": "error",
     "traceback": [
      "\u001B[0;31m---------------------------------------------------------------------------\u001B[0m",
      "\u001B[0;31mFileNotFoundError\u001B[0m                         Traceback (most recent call last)",
      "Cell \u001B[0;32mIn[18], line 5\u001B[0m\n\u001B[1;32m      1\u001B[0m r \u001B[38;5;241m=\u001B[39m sr\u001B[38;5;241m.\u001B[39mRecognizer()\n\u001B[1;32m      3\u001B[0m audio_file \u001B[38;5;241m=\u001B[39m sr\u001B[38;5;241m.\u001B[39mAudioFile(\u001B[38;5;124m'\u001B[39m\u001B[38;5;124maudios/\u001B[39m\u001B[38;5;124m'\u001B[39m\u001B[38;5;241m+\u001B[39m\u001B[38;5;124m'\u001B[39m\u001B[38;5;124mEP.254_-_AMA_47_SNEEK_PEEK.wav\u001B[39m\u001B[38;5;124m'\u001B[39m)\n\u001B[0;32m----> 5\u001B[0m \u001B[38;5;28;43;01mwith\u001B[39;49;00m\u001B[43m \u001B[49m\u001B[43maudio_file\u001B[49m\u001B[43m \u001B[49m\u001B[38;5;28;43;01mas\u001B[39;49;00m\u001B[43m \u001B[49m\u001B[43msource\u001B[49m\u001B[43m:\u001B[49m\n\u001B[1;32m      6\u001B[0m \u001B[43m    \u001B[49m\u001B[43maudio\u001B[49m\u001B[43m \u001B[49m\u001B[38;5;241;43m=\u001B[39;49m\u001B[43m \u001B[49m\u001B[43mr\u001B[49m\u001B[38;5;241;43m.\u001B[39;49m\u001B[43mrecord\u001B[49m\u001B[43m(\u001B[49m\u001B[43msource\u001B[49m\u001B[43m,\u001B[49m\u001B[43m \u001B[49m\u001B[43mduration\u001B[49m\u001B[38;5;241;43m=\u001B[39;49m\u001B[38;5;241;43m40\u001B[39;49m\u001B[43m)\u001B[49m\n\u001B[1;32m      8\u001B[0m \u001B[38;5;124;03m\"\"\"    \u001B[39;00m\n\u001B[1;32m      9\u001B[0m \u001B[38;5;124;03mwith audio_file as source:\u001B[39;00m\n\u001B[1;32m     10\u001B[0m \u001B[38;5;124;03m    audio = r.record(source)\u001B[39;00m\n\u001B[1;32m     11\u001B[0m \u001B[38;5;124;03m\"\"\"\u001B[39;00m\n",
      "File \u001B[0;32m~/Documents/GitHub/amos2024ss06-health-ai-framework/.venv/lib/python3.12/site-packages/speech_recognition/__init__.py:241\u001B[0m, in \u001B[0;36mAudioFile.__enter__\u001B[0;34m(self)\u001B[0m\n\u001B[1;32m    238\u001B[0m \u001B[38;5;28;01massert\u001B[39;00m \u001B[38;5;28mself\u001B[39m\u001B[38;5;241m.\u001B[39mstream \u001B[38;5;129;01mis\u001B[39;00m \u001B[38;5;28;01mNone\u001B[39;00m, \u001B[38;5;124m\"\u001B[39m\u001B[38;5;124mThis audio source is already inside a context manager\u001B[39m\u001B[38;5;124m\"\u001B[39m\n\u001B[1;32m    239\u001B[0m \u001B[38;5;28;01mtry\u001B[39;00m:\n\u001B[1;32m    240\u001B[0m     \u001B[38;5;66;03m# attempt to read the file as WAV\u001B[39;00m\n\u001B[0;32m--> 241\u001B[0m     \u001B[38;5;28mself\u001B[39m\u001B[38;5;241m.\u001B[39maudio_reader \u001B[38;5;241m=\u001B[39m \u001B[43mwave\u001B[49m\u001B[38;5;241;43m.\u001B[39;49m\u001B[43mopen\u001B[49m\u001B[43m(\u001B[49m\u001B[38;5;28;43mself\u001B[39;49m\u001B[38;5;241;43m.\u001B[39;49m\u001B[43mfilename_or_fileobject\u001B[49m\u001B[43m,\u001B[49m\u001B[43m \u001B[49m\u001B[38;5;124;43m\"\u001B[39;49m\u001B[38;5;124;43mrb\u001B[39;49m\u001B[38;5;124;43m\"\u001B[39;49m\u001B[43m)\u001B[49m\n\u001B[1;32m    242\u001B[0m     \u001B[38;5;28mself\u001B[39m\u001B[38;5;241m.\u001B[39mlittle_endian \u001B[38;5;241m=\u001B[39m \u001B[38;5;28;01mTrue\u001B[39;00m  \u001B[38;5;66;03m# RIFF WAV is a little-endian format (most ``audioop`` operations assume that the frames are stored in little-endian form)\u001B[39;00m\n\u001B[1;32m    243\u001B[0m \u001B[38;5;28;01mexcept\u001B[39;00m (wave\u001B[38;5;241m.\u001B[39mError, \u001B[38;5;167;01mEOFError\u001B[39;00m):\n",
      "File \u001B[0;32m~/.pyenv/versions/3.12.0/lib/python3.12/wave.py:649\u001B[0m, in \u001B[0;36mopen\u001B[0;34m(f, mode)\u001B[0m\n\u001B[1;32m    647\u001B[0m         mode \u001B[38;5;241m=\u001B[39m \u001B[38;5;124m'\u001B[39m\u001B[38;5;124mrb\u001B[39m\u001B[38;5;124m'\u001B[39m\n\u001B[1;32m    648\u001B[0m \u001B[38;5;28;01mif\u001B[39;00m mode \u001B[38;5;129;01min\u001B[39;00m (\u001B[38;5;124m'\u001B[39m\u001B[38;5;124mr\u001B[39m\u001B[38;5;124m'\u001B[39m, \u001B[38;5;124m'\u001B[39m\u001B[38;5;124mrb\u001B[39m\u001B[38;5;124m'\u001B[39m):\n\u001B[0;32m--> 649\u001B[0m     \u001B[38;5;28;01mreturn\u001B[39;00m \u001B[43mWave_read\u001B[49m\u001B[43m(\u001B[49m\u001B[43mf\u001B[49m\u001B[43m)\u001B[49m\n\u001B[1;32m    650\u001B[0m \u001B[38;5;28;01melif\u001B[39;00m mode \u001B[38;5;129;01min\u001B[39;00m (\u001B[38;5;124m'\u001B[39m\u001B[38;5;124mw\u001B[39m\u001B[38;5;124m'\u001B[39m, \u001B[38;5;124m'\u001B[39m\u001B[38;5;124mwb\u001B[39m\u001B[38;5;124m'\u001B[39m):\n\u001B[1;32m    651\u001B[0m     \u001B[38;5;28;01mreturn\u001B[39;00m Wave_write(f)\n",
      "File \u001B[0;32m~/.pyenv/versions/3.12.0/lib/python3.12/wave.py:282\u001B[0m, in \u001B[0;36mWave_read.__init__\u001B[0;34m(self, f)\u001B[0m\n\u001B[1;32m    280\u001B[0m \u001B[38;5;28mself\u001B[39m\u001B[38;5;241m.\u001B[39m_i_opened_the_file \u001B[38;5;241m=\u001B[39m \u001B[38;5;28;01mNone\u001B[39;00m\n\u001B[1;32m    281\u001B[0m \u001B[38;5;28;01mif\u001B[39;00m \u001B[38;5;28misinstance\u001B[39m(f, \u001B[38;5;28mstr\u001B[39m):\n\u001B[0;32m--> 282\u001B[0m     f \u001B[38;5;241m=\u001B[39m \u001B[43mbuiltins\u001B[49m\u001B[38;5;241;43m.\u001B[39;49m\u001B[43mopen\u001B[49m\u001B[43m(\u001B[49m\u001B[43mf\u001B[49m\u001B[43m,\u001B[49m\u001B[43m \u001B[49m\u001B[38;5;124;43m'\u001B[39;49m\u001B[38;5;124;43mrb\u001B[39;49m\u001B[38;5;124;43m'\u001B[39;49m\u001B[43m)\u001B[49m\n\u001B[1;32m    283\u001B[0m     \u001B[38;5;28mself\u001B[39m\u001B[38;5;241m.\u001B[39m_i_opened_the_file \u001B[38;5;241m=\u001B[39m f\n\u001B[1;32m    284\u001B[0m \u001B[38;5;66;03m# else, assume it is an open file object already\u001B[39;00m\n",
      "\u001B[0;31mFileNotFoundError\u001B[0m: [Errno 2] No such file or directory: 'audios/EP.254_-_AMA_47_SNEEK_PEEK.wav'"
     ]
    }
   ],
   "execution_count": 18
  },
  {
   "cell_type": "code",
   "id": "0d0b9e46",
   "metadata": {
    "ExecuteTime": {
     "end_time": "2024-05-05T15:54:18.668945Z",
     "start_time": "2024-05-05T15:54:18.668754Z"
    }
   },
   "source": [
    "# Function to transcribe audio to text using Google Cloud Speech-to-Text\n",
    "def transcribe_audio(audio_url):\n",
    "    client = speech.SpeechClient()\n",
    "    audio = speech.RecognitionAudio(uri=audio_url)\n",
    "    config = speech.RecognitionConfig(\n",
    "        encoding=speech.RecognitionConfig.AudioEncoding.OGG_OPUS,\n",
    "        language_code=\"en-US\",\n",
    "    )\n",
    "    response = client.recognize(config=config, audio=audio)\n",
    "    transcripts = []\n",
    "    for result in response.results:\n",
    "        transcripts.append(result.alternatives[0].transcript)\n",
    "    return transcripts\n",
    "\n",
    "# URL of the webpage containing the audio\n",
    "url = \"https://content.libsyn.com/p/d/1/b/d1b65ad733f9441c/EP.254_-_AMA_47_SNEEK_PEEK.mp3?c_id=151844049&cs_id=151844049&response-content-type=audio%2Fmpeg&Expires=1714302958&Signature=ZoU1VHP2md8aJSWHfUdjpLK3~iZ1II0G7hhFxN0wPC50NGUw7jcNL3O4zwbJsgzeQdWcakT2rsAe-qO-VJqXD1jkDX9glPox~inBEJibxcwlH7jhb3fyPITfa8BnYBlmkl~6yiI6oT1VejMRWV1SGt9ed-YvAhMW3japlpRd2cBTGB3ioxDuDE7JWB5pJ6YvF7hmTd6oq2a94rycanbTI5kpBwcb3O6eFl5XI4iY0hj-c9bfjbFeangw5J7ZYaGh~B5BvdSRvN0EQVcLf5KTy4tF~LI8a0FMKcqf-I5BFkLGUcACwJnINNkgFBefmZ3LvHyig2V4lwH4FDHdY-IOdg__&Key-Pair-Id=K1YS7LZGUP96OI\" \n",
    "# \"https:\\/\\/traffic.libsyn.com\\/secure\\/peterattiadrive\\/EP.254_-_AMA_47_SNEEK_PEEK.mp3\"\n",
    "# \"https://content.libsyn.com/p/d/1/b/d1b65ad733f9441c/EP.254_-_AMA_47_SNEEK_PEEK.mp3?c_id=151844049&cs_id=151844049&response-content-type=audio%2Fmpeg&Expires=1714302958&Signature=ZoU1VHP2md8aJSWHfUdjpLK3~iZ1II0G7hhFxN0wPC50NGUw7jcNL3O4zwbJsgzeQdWcakT2rsAe-qO-VJqXD1jkDX9glPox~inBEJibxcwlH7jhb3fyPITfa8BnYBlmkl~6yiI6oT1VejMRWV1SGt9ed-YvAhMW3japlpRd2cBTGB3ioxDuDE7JWB5pJ6YvF7hmTd6oq2a94rycanbTI5kpBwcb3O6eFl5XI4iY0hj-c9bfjbFeangw5J7ZYaGh~B5BvdSRvN0EQVcLf5KTy4tF~LI8a0FMKcqf-I5BFkLGUcACwJnINNkgFBefmZ3LvHyig2V4lwH4FDHdY-IOdg__&Key-Pair-Id=K1YS7LZGUP96OI\" \n",
    "#\"https://peterattiamd.com/ama47/\"\n",
    "\n",
    "# Scrape the audio URL\n",
    "audio_url = scrape_audio_url(url)\n",
    "if audio_url:\n",
    "    print(\"Audio URL found:\", audio_url)\n",
    "    # Transcribe the audio to text\n",
    "    # transcripts = transcribe_audio(audio_url)\n",
    "    print(\"Transcription:\")\n",
    "    for transcript in transcripts:\n",
    "        print(transcript)\n",
    "else:\n",
    "    print(\"No audio found on the webpage.\")"
   ],
   "outputs": [],
   "execution_count": null
  },
  {
   "metadata": {},
   "cell_type": "code",
   "source": [
    "test_mp3 = filenames[0]\n",
    "\n",
    "client = speech.SpeechClient()\n",
    "\n",
    "# Configure audio settings\n",
    "config = {\n",
    "    \"language_code\": \"en-US\",\n",
    "}\n",
    "audio = {\"uri\": test_mp3}\n",
    "\n",
    "# Perform the transcription\n",
    "response = client.long_running_recognize(config=config, audio=audio)\n",
    "operation = response.operation\n",
    "operation_result = operation.result()\n",
    "\n",
    "# Parse the transcription results\n",
    "transcription = \"\"\n",
    "for result in operation_result.results:\n",
    "    for alternative in result.alternatives:\n",
    "        transcription += alternative.transcript + \"\\n\"\n",
    "\n",
    "# Provide the path to your audio file\n",
    "audio_file_path_1 = test_mp3\n",
    "\n",
    "# Call the transcribe_audio function\n",
    "# transcription_1 = transcribe_audio(audio_file_path_1)\n",
    "print(\"Transcription:\")\n",
    "# print(transcription_1)"
   ],
   "id": "fdeee58ff944e7f3",
   "outputs": [],
   "execution_count": null
  },
  {
   "metadata": {},
   "cell_type": "code",
   "source": [
    "r = sr.Recognizer()\n",
    "\n",
    "audio_file = sr.AudioFile(folder+'EP.254_-_AMA_47_SNEEK_PEEK.wav')\n",
    "\n",
    "with audio_file as source:\n",
    "    audio = r.record(source, duration=40)\n",
    "\n",
    "\"\"\"    \n",
    "with audio_file as source:\n",
    "    audio = r.record(source)\n",
    "\"\"\"\n",
    "# text = r.recognize_google(audio)\n",
    "# print(text)"
   ],
   "id": "28dd24f7e00aad2a",
   "outputs": [],
   "execution_count": null
  }
 ],
 "metadata": {
  "kernelspec": {
   "display_name": "Python 3 (ipykernel)",
   "language": "python",
   "name": "python3"
  },
  "language_info": {
   "codemirror_mode": {
    "name": "ipython",
    "version": 3
   },
   "file_extension": ".py",
   "mimetype": "text/x-python",
   "name": "python",
   "nbconvert_exporter": "python",
   "pygments_lexer": "ipython3",
   "version": "3.7.4"
  }
 },
 "nbformat": 4,
 "nbformat_minor": 5
}
